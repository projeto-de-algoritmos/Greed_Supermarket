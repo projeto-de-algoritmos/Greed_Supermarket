{
 "cells": [
  {
   "cell_type": "code",
   "execution_count": 1,
   "metadata": {
    "collapsed": true
   },
   "outputs": [],
   "source": [
    "import pandas as pd\n",
    "import ipywidgets as widgets\n",
    "from IPython.display import display"
   ]
  },
  {
   "cell_type": "code",
   "execution_count": 2,
   "metadata": {
    "pycharm": {
     "name": "#%%\n"
    }
   },
   "outputs": [],
   "source": [
    "df = pd.read_csv('./dataset/Produtos.csv', delimiter=\";\", encoding='latin-1')"
   ]
  },
  {
   "cell_type": "code",
   "execution_count": 3,
   "metadata": {
    "pycharm": {
     "name": "#%%\n"
    }
   },
   "outputs": [],
   "source": [
    "df.columns = ['Produtos', 'Preços']\n",
    "df['Preços'] = df['Preços'].str.replace(',', '.').astype(float)"
   ]
  },
  {
   "cell_type": "code",
   "execution_count": 4,
   "metadata": {
    "pycharm": {
     "name": "#%%\n"
    }
   },
   "outputs": [
    {
     "data": {
      "text/plain": "             Produtos  Preços\n0        Achocolatado    4.59\n1               Arroz   13.29\n2              Açúcar    3.95\n3            Biscoito    5.25\n4                Café    6.99\n5   Extrato de tomate    4.99\n6    Farinha de trigo    3.89\n7              Feijão    7.99\n8               Leite    3.65\n9            Macarrão    3.79\n10          Margarina    4.79\n11               Óleo    4.85\n12    Papel higiênico    4.49\n13                Sal    3.99\n14           Sardinha    3.49",
      "text/html": "<div>\n<style scoped>\n    .dataframe tbody tr th:only-of-type {\n        vertical-align: middle;\n    }\n\n    .dataframe tbody tr th {\n        vertical-align: top;\n    }\n\n    .dataframe thead th {\n        text-align: right;\n    }\n</style>\n<table border=\"1\" class=\"dataframe\">\n  <thead>\n    <tr style=\"text-align: right;\">\n      <th></th>\n      <th>Produtos</th>\n      <th>Preços</th>\n    </tr>\n  </thead>\n  <tbody>\n    <tr>\n      <th>0</th>\n      <td>Achocolatado</td>\n      <td>4.59</td>\n    </tr>\n    <tr>\n      <th>1</th>\n      <td>Arroz</td>\n      <td>13.29</td>\n    </tr>\n    <tr>\n      <th>2</th>\n      <td>Açúcar</td>\n      <td>3.95</td>\n    </tr>\n    <tr>\n      <th>3</th>\n      <td>Biscoito</td>\n      <td>5.25</td>\n    </tr>\n    <tr>\n      <th>4</th>\n      <td>Café</td>\n      <td>6.99</td>\n    </tr>\n    <tr>\n      <th>5</th>\n      <td>Extrato de tomate</td>\n      <td>4.99</td>\n    </tr>\n    <tr>\n      <th>6</th>\n      <td>Farinha de trigo</td>\n      <td>3.89</td>\n    </tr>\n    <tr>\n      <th>7</th>\n      <td>Feijão</td>\n      <td>7.99</td>\n    </tr>\n    <tr>\n      <th>8</th>\n      <td>Leite</td>\n      <td>3.65</td>\n    </tr>\n    <tr>\n      <th>9</th>\n      <td>Macarrão</td>\n      <td>3.79</td>\n    </tr>\n    <tr>\n      <th>10</th>\n      <td>Margarina</td>\n      <td>4.79</td>\n    </tr>\n    <tr>\n      <th>11</th>\n      <td>Óleo</td>\n      <td>4.85</td>\n    </tr>\n    <tr>\n      <th>12</th>\n      <td>Papel higiênico</td>\n      <td>4.49</td>\n    </tr>\n    <tr>\n      <th>13</th>\n      <td>Sal</td>\n      <td>3.99</td>\n    </tr>\n    <tr>\n      <th>14</th>\n      <td>Sardinha</td>\n      <td>3.49</td>\n    </tr>\n  </tbody>\n</table>\n</div>"
     },
     "execution_count": 4,
     "metadata": {},
     "output_type": "execute_result"
    }
   ],
   "source": [
    "df"
   ]
  },
  {
   "cell_type": "code",
   "execution_count": 5,
   "metadata": {
    "pycharm": {
     "name": "#%%\n"
    }
   },
   "outputs": [],
   "source": [
    "currency = [0.01, 0.05, 0.10, 0.25, 0.50, 1.00, 2.00, 5.00, 10.00, 20.00, 50.00, 100.00, 200.00]"
   ]
  },
  {
   "cell_type": "code",
   "execution_count": 6,
   "metadata": {
    "pycharm": {
     "name": "#%%\n"
    }
   },
   "outputs": [],
   "source": [
    "def findMin(change):\n",
    "\n",
    "    n = len(currency)\n",
    "    result = []\n",
    "    i = n - 1\n",
    "    change = round(change, 2)\n",
    "\n",
    "    while i >= 0:\n",
    "        while change >= currency[i]:\n",
    "            change -= currency[i]\n",
    "            result.append(currency[i])\n",
    "\n",
    "        i -= 1\n",
    "\n",
    "    for i in range(len(result)):\n",
    "        print(result[i], end = \" \")"
   ]
  },
  {
   "cell_type": "code",
   "execution_count": 7,
   "metadata": {
    "pycharm": {
     "name": "#%%\n"
    }
   },
   "outputs": [
    {
     "data": {
      "text/plain": "79.99"
     },
     "execution_count": 7,
     "metadata": {},
     "output_type": "execute_result"
    }
   ],
   "source": [
    "total = []\n",
    "for i in df['Preços'].values:\n",
    "    total.append(i)\n",
    "\n",
    "total = list(dict.fromkeys(total))\n",
    "\n",
    "t = round(sum(total),2)\n",
    "\n",
    "t"
   ]
  },
  {
   "cell_type": "code",
   "execution_count": 8,
   "metadata": {
    "pycharm": {
     "name": "#%%\n"
    }
   },
   "outputs": [
    {
     "name": "stdout",
     "output_type": "stream",
     "text": [
      "50.0 20.0 5.0 2.0 2.0 0.5 0.25 0.1 0.1 0.01 0.01 0.01 "
     ]
    }
   ],
   "source": [
    "findMin(79.99)"
   ]
  },
  {
   "cell_type": "code",
   "execution_count": 9,
   "metadata": {
    "pycharm": {
     "name": "#%%\n"
    }
   },
   "outputs": [],
   "source": [
    "#a = widgets.FloatText(description = f\"{df.iloc[0,0]} (R$ {df.iloc[0,1]}): \")\n",
    "#display(a)"
   ]
  }
 ],
 "metadata": {
  "kernelspec": {
   "display_name": "Python 3",
   "language": "python",
   "name": "python3"
  },
  "language_info": {
   "codemirror_mode": {
    "name": "ipython",
    "version": 3
   },
   "file_extension": ".py",
   "mimetype": "text/x-python",
   "name": "python",
   "nbconvert_exporter": "python",
   "pygments_lexer": "ipython3",
   "version": "3.8.3"
  }
 },
 "nbformat": 4,
 "nbformat_minor": 1
}